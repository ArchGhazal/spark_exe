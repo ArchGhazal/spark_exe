{
  "nbformat": 4,
  "nbformat_minor": 0,
  "metadata": {
    "colab": {
      "provenance": []
    },
    "kernelspec": {
      "name": "python3",
      "display_name": "Python 3"
    },
    "language_info": {
      "name": "python"
    }
  },
  "cells": [
    {
      "cell_type": "code",
      "execution_count": 1,
      "metadata": {
        "colab": {
          "base_uri": "https://localhost:8080/"
        },
        "id": "V14ifU4xAFjp",
        "outputId": "28b7f180-9126-4db5-84f2-ec912afb6cfa"
      },
      "outputs": [
        {
          "output_type": "stream",
          "name": "stdout",
          "text": [
            "Looking in indexes: https://pypi.org/simple, https://us-python.pkg.dev/colab-wheels/public/simple/\n",
            "Collecting spark\n",
            "  Downloading spark-0.2.1.tar.gz (41 kB)\n",
            "\u001b[2K     \u001b[90m━━━━━━━━━━━━━━━━━━━━━━━━━━━━━━━━━━━━━━━\u001b[0m \u001b[32m41.0/41.0 kB\u001b[0m \u001b[31m940.6 kB/s\u001b[0m eta \u001b[36m0:00:00\u001b[0m\n",
            "\u001b[?25h  Preparing metadata (setup.py) ... \u001b[?25l\u001b[?25hdone\n",
            "Building wheels for collected packages: spark\n",
            "  Building wheel for spark (setup.py) ... \u001b[?25l\u001b[?25hdone\n",
            "  Created wheel for spark: filename=spark-0.2.1-py3-none-any.whl size=58760 sha256=be9f410b57816c3bc8a0b29980ed28fbecef0914bc8535139ec747bcfad2797b\n",
            "  Stored in directory: /root/.cache/pip/wheels/bc/0f/6c/b41528ca0fd4d46513185e90da91bc1c484bba6138641c5a62\n",
            "Successfully built spark\n",
            "Installing collected packages: spark\n",
            "Successfully installed spark-0.2.1\n"
          ]
        }
      ],
      "source": [
        "pip install spark"
      ]
    },
    {
      "cell_type": "code",
      "source": [
        "pip install pyspark"
      ],
      "metadata": {
        "colab": {
          "base_uri": "https://localhost:8080/"
        },
        "id": "pk7q3NhuA3NY",
        "outputId": "0774146e-9feb-4f11-bf6c-bfaa4251b16f"
      },
      "execution_count": 2,
      "outputs": [
        {
          "output_type": "stream",
          "name": "stdout",
          "text": [
            "Looking in indexes: https://pypi.org/simple, https://us-python.pkg.dev/colab-wheels/public/simple/\n",
            "Collecting pyspark\n",
            "  Downloading pyspark-3.4.0.tar.gz (310.8 MB)\n",
            "\u001b[2K     \u001b[90m━━━━━━━━━━━━━━━━━━━━━━━━━━━━━━━━━━━━━━━\u001b[0m \u001b[32m310.8/310.8 MB\u001b[0m \u001b[31m4.4 MB/s\u001b[0m eta \u001b[36m0:00:00\u001b[0m\n",
            "\u001b[?25h  Preparing metadata (setup.py) ... \u001b[?25l\u001b[?25hdone\n",
            "Requirement already satisfied: py4j==0.10.9.7 in /usr/local/lib/python3.9/dist-packages (from pyspark) (0.10.9.7)\n",
            "Building wheels for collected packages: pyspark\n",
            "  Building wheel for pyspark (setup.py) ... \u001b[?25l\u001b[?25hdone\n",
            "  Created wheel for pyspark: filename=pyspark-3.4.0-py2.py3-none-any.whl size=311317145 sha256=03c56163f2c5b47c153cd37023522060e455f3403e2e563f57c7cf6aad8611d4\n",
            "  Stored in directory: /root/.cache/pip/wheels/9f/34/a4/159aa12d0a510d5ff7c8f0220abbea42e5d81ecf588c4fd884\n",
            "Successfully built pyspark\n",
            "Installing collected packages: pyspark\n",
            "Successfully installed pyspark-3.4.0\n"
          ]
        }
      ]
    },
    {
      "cell_type": "code",
      "source": [
        "import pyspark\n",
        "from pyspark.sql import SparkSession\n",
        "spark = SparkSession.builder.master(\"local[*]\"). appName(\"exercise\").getOrCreate()"
      ],
      "metadata": {
        "id": "wJ98szVZA8tm"
      },
      "execution_count": 3,
      "outputs": []
    },
    {
      "cell_type": "code",
      "source": [
        "spark"
      ],
      "metadata": {
        "colab": {
          "base_uri": "https://localhost:8080/",
          "height": 219
        },
        "id": "nbRv5DP8BIuE",
        "outputId": "e6ba5a68-ba24-4bf5-df43-72497cc57043"
      },
      "execution_count": 4,
      "outputs": [
        {
          "output_type": "execute_result",
          "data": {
            "text/plain": [
              "<pyspark.sql.session.SparkSession at 0x7f48bdac74c0>"
            ],
            "text/html": [
              "\n",
              "            <div>\n",
              "                <p><b>SparkSession - in-memory</b></p>\n",
              "                \n",
              "        <div>\n",
              "            <p><b>SparkContext</b></p>\n",
              "\n",
              "            <p><a href=\"http://8280889d0f9f:4040\">Spark UI</a></p>\n",
              "\n",
              "            <dl>\n",
              "              <dt>Version</dt>\n",
              "                <dd><code>v3.4.0</code></dd>\n",
              "              <dt>Master</dt>\n",
              "                <dd><code>local[*]</code></dd>\n",
              "              <dt>AppName</dt>\n",
              "                <dd><code>exercise</code></dd>\n",
              "            </dl>\n",
              "        </div>\n",
              "        \n",
              "            </div>\n",
              "        "
            ]
          },
          "metadata": {},
          "execution_count": 4
        }
      ]
    },
    {
      "cell_type": "code",
      "source": [
        "# reading dataset \n",
        "from google.colab import files\n",
        "uploaded = files.upload()"
      ],
      "metadata": {
        "colab": {
          "base_uri": "https://localhost:8080/",
          "height": 73
        },
        "id": "1Npt5zD2G0v4",
        "outputId": "7aad8234-f1fd-4332-d8ad-9ef6572d3e6e"
      },
      "execution_count": 5,
      "outputs": [
        {
          "output_type": "display_data",
          "data": {
            "text/plain": [
              "<IPython.core.display.HTML object>"
            ],
            "text/html": [
              "\n",
              "     <input type=\"file\" id=\"files-f11f6d88-6aed-4480-ba67-1a7cce8c218d\" name=\"files[]\" multiple disabled\n",
              "        style=\"border:none\" />\n",
              "     <output id=\"result-f11f6d88-6aed-4480-ba67-1a7cce8c218d\">\n",
              "      Upload widget is only available when the cell has been executed in the\n",
              "      current browser session. Please rerun this cell to enable.\n",
              "      </output>\n",
              "      <script>// Copyright 2017 Google LLC\n",
              "//\n",
              "// Licensed under the Apache License, Version 2.0 (the \"License\");\n",
              "// you may not use this file except in compliance with the License.\n",
              "// You may obtain a copy of the License at\n",
              "//\n",
              "//      http://www.apache.org/licenses/LICENSE-2.0\n",
              "//\n",
              "// Unless required by applicable law or agreed to in writing, software\n",
              "// distributed under the License is distributed on an \"AS IS\" BASIS,\n",
              "// WITHOUT WARRANTIES OR CONDITIONS OF ANY KIND, either express or implied.\n",
              "// See the License for the specific language governing permissions and\n",
              "// limitations under the License.\n",
              "\n",
              "/**\n",
              " * @fileoverview Helpers for google.colab Python module.\n",
              " */\n",
              "(function(scope) {\n",
              "function span(text, styleAttributes = {}) {\n",
              "  const element = document.createElement('span');\n",
              "  element.textContent = text;\n",
              "  for (const key of Object.keys(styleAttributes)) {\n",
              "    element.style[key] = styleAttributes[key];\n",
              "  }\n",
              "  return element;\n",
              "}\n",
              "\n",
              "// Max number of bytes which will be uploaded at a time.\n",
              "const MAX_PAYLOAD_SIZE = 100 * 1024;\n",
              "\n",
              "function _uploadFiles(inputId, outputId) {\n",
              "  const steps = uploadFilesStep(inputId, outputId);\n",
              "  const outputElement = document.getElementById(outputId);\n",
              "  // Cache steps on the outputElement to make it available for the next call\n",
              "  // to uploadFilesContinue from Python.\n",
              "  outputElement.steps = steps;\n",
              "\n",
              "  return _uploadFilesContinue(outputId);\n",
              "}\n",
              "\n",
              "// This is roughly an async generator (not supported in the browser yet),\n",
              "// where there are multiple asynchronous steps and the Python side is going\n",
              "// to poll for completion of each step.\n",
              "// This uses a Promise to block the python side on completion of each step,\n",
              "// then passes the result of the previous step as the input to the next step.\n",
              "function _uploadFilesContinue(outputId) {\n",
              "  const outputElement = document.getElementById(outputId);\n",
              "  const steps = outputElement.steps;\n",
              "\n",
              "  const next = steps.next(outputElement.lastPromiseValue);\n",
              "  return Promise.resolve(next.value.promise).then((value) => {\n",
              "    // Cache the last promise value to make it available to the next\n",
              "    // step of the generator.\n",
              "    outputElement.lastPromiseValue = value;\n",
              "    return next.value.response;\n",
              "  });\n",
              "}\n",
              "\n",
              "/**\n",
              " * Generator function which is called between each async step of the upload\n",
              " * process.\n",
              " * @param {string} inputId Element ID of the input file picker element.\n",
              " * @param {string} outputId Element ID of the output display.\n",
              " * @return {!Iterable<!Object>} Iterable of next steps.\n",
              " */\n",
              "function* uploadFilesStep(inputId, outputId) {\n",
              "  const inputElement = document.getElementById(inputId);\n",
              "  inputElement.disabled = false;\n",
              "\n",
              "  const outputElement = document.getElementById(outputId);\n",
              "  outputElement.innerHTML = '';\n",
              "\n",
              "  const pickedPromise = new Promise((resolve) => {\n",
              "    inputElement.addEventListener('change', (e) => {\n",
              "      resolve(e.target.files);\n",
              "    });\n",
              "  });\n",
              "\n",
              "  const cancel = document.createElement('button');\n",
              "  inputElement.parentElement.appendChild(cancel);\n",
              "  cancel.textContent = 'Cancel upload';\n",
              "  const cancelPromise = new Promise((resolve) => {\n",
              "    cancel.onclick = () => {\n",
              "      resolve(null);\n",
              "    };\n",
              "  });\n",
              "\n",
              "  // Wait for the user to pick the files.\n",
              "  const files = yield {\n",
              "    promise: Promise.race([pickedPromise, cancelPromise]),\n",
              "    response: {\n",
              "      action: 'starting',\n",
              "    }\n",
              "  };\n",
              "\n",
              "  cancel.remove();\n",
              "\n",
              "  // Disable the input element since further picks are not allowed.\n",
              "  inputElement.disabled = true;\n",
              "\n",
              "  if (!files) {\n",
              "    return {\n",
              "      response: {\n",
              "        action: 'complete',\n",
              "      }\n",
              "    };\n",
              "  }\n",
              "\n",
              "  for (const file of files) {\n",
              "    const li = document.createElement('li');\n",
              "    li.append(span(file.name, {fontWeight: 'bold'}));\n",
              "    li.append(span(\n",
              "        `(${file.type || 'n/a'}) - ${file.size} bytes, ` +\n",
              "        `last modified: ${\n",
              "            file.lastModifiedDate ? file.lastModifiedDate.toLocaleDateString() :\n",
              "                                    'n/a'} - `));\n",
              "    const percent = span('0% done');\n",
              "    li.appendChild(percent);\n",
              "\n",
              "    outputElement.appendChild(li);\n",
              "\n",
              "    const fileDataPromise = new Promise((resolve) => {\n",
              "      const reader = new FileReader();\n",
              "      reader.onload = (e) => {\n",
              "        resolve(e.target.result);\n",
              "      };\n",
              "      reader.readAsArrayBuffer(file);\n",
              "    });\n",
              "    // Wait for the data to be ready.\n",
              "    let fileData = yield {\n",
              "      promise: fileDataPromise,\n",
              "      response: {\n",
              "        action: 'continue',\n",
              "      }\n",
              "    };\n",
              "\n",
              "    // Use a chunked sending to avoid message size limits. See b/62115660.\n",
              "    let position = 0;\n",
              "    do {\n",
              "      const length = Math.min(fileData.byteLength - position, MAX_PAYLOAD_SIZE);\n",
              "      const chunk = new Uint8Array(fileData, position, length);\n",
              "      position += length;\n",
              "\n",
              "      const base64 = btoa(String.fromCharCode.apply(null, chunk));\n",
              "      yield {\n",
              "        response: {\n",
              "          action: 'append',\n",
              "          file: file.name,\n",
              "          data: base64,\n",
              "        },\n",
              "      };\n",
              "\n",
              "      let percentDone = fileData.byteLength === 0 ?\n",
              "          100 :\n",
              "          Math.round((position / fileData.byteLength) * 100);\n",
              "      percent.textContent = `${percentDone}% done`;\n",
              "\n",
              "    } while (position < fileData.byteLength);\n",
              "  }\n",
              "\n",
              "  // All done.\n",
              "  yield {\n",
              "    response: {\n",
              "      action: 'complete',\n",
              "    }\n",
              "  };\n",
              "}\n",
              "\n",
              "scope.google = scope.google || {};\n",
              "scope.google.colab = scope.google.colab || {};\n",
              "scope.google.colab._files = {\n",
              "  _uploadFiles,\n",
              "  _uploadFilesContinue,\n",
              "};\n",
              "})(self);\n",
              "</script> "
            ]
          },
          "metadata": {}
        },
        {
          "output_type": "stream",
          "name": "stdout",
          "text": [
            "Saving Sample - EU Superstore.csv to Sample - EU Superstore.csv\n"
          ]
        }
      ]
    },
    {
      "cell_type": "code",
      "source": [
        "df = spark.read.option('header','true') .csv(\"Sample - EU Superstore.csv\")"
      ],
      "metadata": {
        "id": "qV-tBWD_FCxK"
      },
      "execution_count": 6,
      "outputs": []
    },
    {
      "cell_type": "code",
      "source": [
        "df.printSchema()"
      ],
      "metadata": {
        "colab": {
          "base_uri": "https://localhost:8080/"
        },
        "id": "zm-MvoZKKA3V",
        "outputId": "255eacab-8d26-4b18-c0e9-f3b416bda15a"
      },
      "execution_count": 7,
      "outputs": [
        {
          "output_type": "stream",
          "name": "stdout",
          "text": [
            "root\n",
            " |-- Row ID: string (nullable = true)\n",
            " |-- Order ID: string (nullable = true)\n",
            " |-- Order Date: string (nullable = true)\n",
            " |-- Ship Date: string (nullable = true)\n",
            " |-- Ship Mode: string (nullable = true)\n",
            " |-- Customer ID: string (nullable = true)\n",
            " |-- Customer Name: string (nullable = true)\n",
            " |-- Segment: string (nullable = true)\n",
            " |-- City: string (nullable = true)\n",
            " |-- State: string (nullable = true)\n",
            " |-- Country: string (nullable = true)\n",
            " |-- Region: string (nullable = true)\n",
            " |-- Product ID: string (nullable = true)\n",
            " |-- Category: string (nullable = true)\n",
            " |-- Sub-Category: string (nullable = true)\n",
            " |-- Product Name: string (nullable = true)\n",
            " |-- Sales: string (nullable = true)\n",
            " |-- Quantity: string (nullable = true)\n",
            " |-- Discount: string (nullable = true)\n",
            " |-- Profit: string (nullable = true)\n",
            "\n"
          ]
        }
      ]
    },
    {
      "cell_type": "code",
      "source": [
        "df.show()"
      ],
      "metadata": {
        "colab": {
          "base_uri": "https://localhost:8080/"
        },
        "id": "VtFpZbOfNmRW",
        "outputId": "0f326c01-3e24-40dc-ef33-3143ffebd73f"
      },
      "execution_count": 8,
      "outputs": [
        {
          "output_type": "stream",
          "name": "stdout",
          "text": [
            "+------+---------------+----------+----------+--------------+-----------+----------------+-----------+-------------+--------------------+--------------+-------+---------------+---------------+------------+--------------------+--------+--------+--------+-------+\n",
            "|Row ID|       Order ID|Order Date| Ship Date|     Ship Mode|Customer ID|   Customer Name|    Segment|         City|               State|       Country| Region|     Product ID|       Category|Sub-Category|        Product Name|   Sales|Quantity|Discount| Profit|\n",
            "+------+---------------+----------+----------+--------------+-----------+----------------+-----------+-------------+--------------------+--------------+-------+---------------+---------------+------------+--------------------+--------+--------+--------+-------+\n",
            "|     1|ES-2017-1311038|07/02/2017|11/02/2017|Standard Class|   AS-10045|  Aaron Smayling|  Corporate|        Leeds|             England|United Kingdom|  North|OFF-ST-10000988|Office Supplies|     Storage|Fellowes Folders,...|    79.2|       3|       0|   39.6|\n",
            "|     2|ES-2017-1311038|07/02/2017|11/02/2017|Standard Class|   AS-10045|  Aaron Smayling|  Corporate|        Leeds|             England|United Kingdom|  North|TEC-AC-10004144|     Technology| Accessories|SanDisk Numeric K...|  388.92|       7|       0|      0|\n",
            "|     3|ES-2017-1311038|07/02/2017|11/02/2017|Standard Class|   AS-10045|  Aaron Smayling|  Corporate|        Leeds|             England|United Kingdom|  North|OFF-LA-10001915|Office Supplies|      Labels|Avery Legal Exhib...|   35.19|       3|       0|  16.11|\n",
            "|     4|ES-2017-1311038|07/02/2017|11/02/2017|Standard Class|   AS-10045|  Aaron Smayling|  Corporate|        Leeds|             England|United Kingdom|  North|OFF-ST-10004550|Office Supplies|     Storage|Fellowes Folders,...|   50.94|       2|       0|   13.2|\n",
            "|     5|ES-2017-1311038|07/02/2017|11/02/2017|Standard Class|   AS-10045|  Aaron Smayling|  Corporate|        Leeds|             England|United Kingdom|  North|TEC-AC-10004068|     Technology| Accessories|Memorex Memory Ca...|  307.44|       3|       0|  73.71|\n",
            "|     6|ES-2017-1311038|07/02/2017|11/02/2017|Standard Class|   AS-10045|  Aaron Smayling|  Corporate|        Leeds|             England|United Kingdom|  North|OFF-ST-10002271|Office Supplies|     Storage|Rogers Shelving, ...|   122.4|       2|       0|  37.92|\n",
            "|     7|ES-2017-1311038|07/02/2017|11/02/2017|Standard Class|   AS-10045|  Aaron Smayling|  Corporate|        Leeds|             England|United Kingdom|  North|TEC-PH-10003963|     Technology|      Phones|Apple Signal Boos...|  413.82|       3|       0|  20.61|\n",
            "|     8|ES-2015-5113958|02/08/2015|07/08/2015|  Second Class|   EB-13840|   Ellis Ballard|  Corporate|West Bromwich|             England|United Kingdom|  North|TEC-CO-10004325|     Technology|     Copiers|Canon Personal Co...|  428.22|       3|       0| 192.69|\n",
            "|     9|ES-2015-5113958|02/08/2015|07/08/2015|  Second Class|   EB-13840|   Ellis Ballard|  Corporate|West Bromwich|             England|United Kingdom|  North|OFF-AP-10004512|Office Supplies|  Appliances|   Hoover Stove, Red| 3979.29|       7|       0|1989.54|\n",
            "|    10|ES-2015-5113958|02/08/2015|07/08/2015|  Second Class|   EB-13840|   Ellis Ballard|  Corporate|West Bromwich|             England|United Kingdom|  North|OFF-FA-10002393|Office Supplies|   Fasteners|Accos Push Pins, ...|   43.56|       3|       0|   12.6|\n",
            "|    11|ES-2015-2510515|20/06/2015|20/06/2015|      Same Day|   LH-17155|Logan Haushalter|   Consumer|   Le Bouscat|Aquitaine-Limousi...|        France|Central|OFF-LA-10002805|Office Supplies|      Labels|Hon Color Coded L...|   25.26|       2|       0|   0.48|\n",
            "|    12|ES-2015-2510515|20/06/2015|20/06/2015|      Same Day|   LH-17155|Logan Haushalter|   Consumer|   Le Bouscat|Aquitaine-Limousi...|        France|Central|OFF-AP-10002330|Office Supplies|  Appliances|Hamilton Beach St...|2443.905|       5|     0.1|760.305|\n",
            "|    13|ES-2015-2510515|20/06/2015|20/06/2015|      Same Day|   LH-17155|Logan Haushalter|   Consumer|   Le Bouscat|Aquitaine-Limousi...|        France|Central|OFF-AR-10000505|Office Supplies|         Art|Binney & Smith Pe...|   12.21|       1|       0|      0|\n",
            "|    14|ES-2015-2510515|20/06/2015|20/06/2015|      Same Day|   LH-17155|Logan Haushalter|   Consumer|   Le Bouscat|Aquitaine-Limousi...|        France|Central|TEC-PH-10002898|     Technology|      Phones|Samsung Smart Pho...|2167.296|       4|    0.15|790.416|\n",
            "|    15|ES-2015-2510515|20/06/2015|20/06/2015|      Same Day|   LH-17155|Logan Haushalter|   Consumer|   Le Bouscat|Aquitaine-Limousi...|        France|Central|OFF-ST-10001413|Office Supplies|     Storage|Rogers Folders, Blue| 138.105|       5|     0.1|-12.345|\n",
            "|    16|ES-2016-4380115|16/02/2016|20/02/2016|Standard Class|   KC-16540| Kelly Collister|   Consumer|   Strasbourg|Alsace-Champagne-...|        France|Central|OFF-ST-10003931|Office Supplies|     Storage|Smead Trays, Wire...| 128.385|       3|     0.1|  4.275|\n",
            "|    17|ES-2016-4380115|16/02/2016|20/02/2016|Standard Class|   KC-16540| Kelly Collister|   Consumer|   Strasbourg|Alsace-Champagne-...|        France|Central|TEC-AC-10004269|     Technology| Accessories|Belkin Memory Car...|  690.12|       6|       0|      0|\n",
            "|    18|ES-2016-4380115|16/02/2016|20/02/2016|Standard Class|   KC-16540| Kelly Collister|   Consumer|   Strasbourg|Alsace-Champagne-...|        France|Central|OFF-LA-10001676|Office Supplies|      Labels|Hon Removable Lab...|    8.16|       1|       0|   1.14|\n",
            "|    19|ES-2017-2573330|03/11/2017|08/11/2017|Standard Class|   BF-11170|      Ben Ferrer|Home Office|         Unna|North Rhine-Westp...|       Germany|Central|TEC-MA-10000811|     Technology|    Machines|Okidata Phone, Du...|  347.88|       4|       0|  76.44|\n",
            "|    20|ES-2017-2573330|03/11/2017|08/11/2017|Standard Class|   BF-11170|      Ben Ferrer|Home Office|         Unna|North Rhine-Westp...|       Germany|Central|OFF-ST-10000648|Office Supplies|     Storage|Eldon File Cart, ...| 575.505|       5|     0.1| 12.705|\n",
            "+------+---------------+----------+----------+--------------+-----------+----------------+-----------+-------------+--------------------+--------------+-------+---------------+---------------+------------+--------------------+--------+--------+--------+-------+\n",
            "only showing top 20 rows\n",
            "\n"
          ]
        }
      ]
    },
    {
      "cell_type": "code",
      "source": [
        "df.count()"
      ],
      "metadata": {
        "colab": {
          "base_uri": "https://localhost:8080/"
        },
        "id": "HyvSQyn7MVMB",
        "outputId": "391a9056-afc7-46a7-fd24-71953d055998"
      },
      "execution_count": 9,
      "outputs": [
        {
          "output_type": "execute_result",
          "data": {
            "text/plain": [
              "10000"
            ]
          },
          "metadata": {},
          "execution_count": 9
        }
      ]
    },
    {
      "cell_type": "code",
      "source": [
        "# how many rows of the EU Superstore dataset have the country being France\n",
        "from pyspark.sql.functions import col\n",
        "france_df = df.filter(col('Country')==\"France\")"
      ],
      "metadata": {
        "id": "xe8navhWGhYg"
      },
      "execution_count": 10,
      "outputs": []
    },
    {
      "cell_type": "code",
      "source": [
        "france_df.count()"
      ],
      "metadata": {
        "colab": {
          "base_uri": "https://localhost:8080/"
        },
        "id": "b1HRUWDzH5MH",
        "outputId": "382b9820-4d0b-4e04-9cfc-26ecb353556f"
      },
      "execution_count": 11,
      "outputs": [
        {
          "output_type": "execute_result",
          "data": {
            "text/plain": [
              "2827"
            ]
          },
          "metadata": {},
          "execution_count": 11
        }
      ]
    },
    {
      "cell_type": "code",
      "source": [
        "# of those, how many are profitable?\n",
        "france_profitable_count = france_df.filter( col(\"Profit\") > 0)"
      ],
      "metadata": {
        "id": "EY2M5dgrJKfK"
      },
      "execution_count": 12,
      "outputs": []
    },
    {
      "cell_type": "code",
      "source": [
        "france_profitable_count.count()"
      ],
      "metadata": {
        "colab": {
          "base_uri": "https://localhost:8080/"
        },
        "id": "lXkA6cxaOnfX",
        "outputId": "94d4aa26-8183-4346-bf0a-e3a177914ca6"
      },
      "execution_count": 13,
      "outputs": [
        {
          "output_type": "execute_result",
          "data": {
            "text/plain": [
              "2277"
            ]
          },
          "metadata": {},
          "execution_count": 13
        }
      ]
    },
    {
      "cell_type": "code",
      "source": [
        "# how any different discount brackets exist? what are they?\n",
        "discounts = df.select(col(\"Discount\")).distinct()"
      ],
      "metadata": {
        "id": "BOIJpky3PIxl"
      },
      "execution_count": 14,
      "outputs": []
    },
    {
      "cell_type": "code",
      "source": [
        "discounts.show()"
      ],
      "metadata": {
        "colab": {
          "base_uri": "https://localhost:8080/"
        },
        "id": "4uyAII7oSClf",
        "outputId": "c3b363db-efea-4391-ffb9-7c36b4dafbd2"
      },
      "execution_count": 15,
      "outputs": [
        {
          "output_type": "stream",
          "name": "stdout",
          "text": [
            "+--------+\n",
            "|Discount|\n",
            "+--------+\n",
            "|     0.3|\n",
            "|     0.7|\n",
            "|       0|\n",
            "|     0.2|\n",
            "|    0.15|\n",
            "|    0.35|\n",
            "|     0.8|\n",
            "|    0.45|\n",
            "|     0.5|\n",
            "|    0.65|\n",
            "|     0.6|\n",
            "|     0.1|\n",
            "|    0.85|\n",
            "|     0.4|\n",
            "+--------+\n",
            "\n"
          ]
        }
      ]
    },
    {
      "cell_type": "code",
      "source": [
        "discounts.count()"
      ],
      "metadata": {
        "colab": {
          "base_uri": "https://localhost:8080/"
        },
        "id": "hN0gitmLR9Kh",
        "outputId": "f2fb52c4-504f-4c75-ab64-d25b6a3b3bb2"
      },
      "execution_count": 16,
      "outputs": [
        {
          "output_type": "execute_result",
          "data": {
            "text/plain": [
              "14"
            ]
          },
          "metadata": {},
          "execution_count": 16
        }
      ]
    },
    {
      "cell_type": "code",
      "source": [
        "# let's see the totl profit by discount bracket, make sure they are ordered by \n",
        "from pyspark.sql.functions import col, sum\n",
        "profit_by_discount = df.groupBy(col(\"Discount\")).agg(sum(col(\"Profit\")).alias(\"Total_Profit\"))\n",
        "profit_by_discount = profit_by_discount.orderBy(col(\"Discount\"))"
      ],
      "metadata": {
        "id": "wdLGU8F1SARr"
      },
      "execution_count": 17,
      "outputs": []
    },
    {
      "cell_type": "code",
      "source": [
        "profit_by_discount.show()"
      ],
      "metadata": {
        "colab": {
          "base_uri": "https://localhost:8080/"
        },
        "id": "dNlp64t9X_Vq",
        "outputId": "0f47ae68-a0d2-479b-9d75-98deed1c9247"
      },
      "execution_count": 18,
      "outputs": [
        {
          "output_type": "stream",
          "name": "stdout",
          "text": [
            "+--------+-------------------+\n",
            "|Discount|       Total_Profit|\n",
            "+--------+-------------------+\n",
            "|       0| 383806.53000000026|\n",
            "|     0.1|  126884.0309999999|\n",
            "|    0.15| 24677.563499999975|\n",
            "|     0.2| 2189.5499999999984|\n",
            "|     0.3| -758.4209999999999|\n",
            "|    0.35|          -9122.649|\n",
            "|     0.4|-21346.427999999996|\n",
            "|    0.45|         -1103.1915|\n",
            "|     0.5|         -96632.115|\n",
            "|     0.6|-20517.456000000002|\n",
            "|    0.65| -6221.965499999999|\n",
            "|     0.7|          -5496.765|\n",
            "|     0.8|           -460.284|\n",
            "|    0.85|          -3068.658|\n",
            "+--------+-------------------+\n",
            "\n"
          ]
        }
      ]
    },
    {
      "cell_type": "code",
      "source": [
        "# what is the value after which we should stop offering discount?\n",
        "from pyspark.sql.functions import when, lag \n",
        "profit_by_discount = profit_by_discount.withColumn('Profitability',\n",
        "                                                   when(profit_by_discount['Total_Profit'] > 0,\n",
        "                                                        'profitable')\n",
        "                                                   .otherwise('nonprofitable')\n",
        "                                                  )\n",
        "profit_by_discount.show()"
      ],
      "metadata": {
        "colab": {
          "base_uri": "https://localhost:8080/"
        },
        "id": "8P2ZJbjMMCGd",
        "outputId": "45c09471-3008-4978-c931-c43d0c362338"
      },
      "execution_count": 19,
      "outputs": [
        {
          "output_type": "stream",
          "name": "stdout",
          "text": [
            "+--------+-------------------+-------------+\n",
            "|Discount|       Total_Profit|Profitability|\n",
            "+--------+-------------------+-------------+\n",
            "|       0| 383806.53000000026|   profitable|\n",
            "|     0.1|  126884.0309999999|   profitable|\n",
            "|    0.15| 24677.563499999975|   profitable|\n",
            "|     0.2| 2189.5499999999984|   profitable|\n",
            "|     0.3| -758.4209999999999|nonprofitable|\n",
            "|    0.35|          -9122.649|nonprofitable|\n",
            "|     0.4|-21346.427999999996|nonprofitable|\n",
            "|    0.45|         -1103.1915|nonprofitable|\n",
            "|     0.5|         -96632.115|nonprofitable|\n",
            "|     0.6|-20517.456000000002|nonprofitable|\n",
            "|    0.65| -6221.965499999999|nonprofitable|\n",
            "|     0.7|          -5496.765|nonprofitable|\n",
            "|     0.8|           -460.284|nonprofitable|\n",
            "|    0.85|          -3068.658|nonprofitable|\n",
            "+--------+-------------------+-------------+\n",
            "\n"
          ]
        }
      ]
    },
    {
      "cell_type": "code",
      "source": [
        "from pyspark.sql.window import Window\n",
        "\n",
        "negative_profit_discount = (profit_by_discount.withColumn('Prev_Total_Profit', lag('Total_Profit')\n",
        "  .over(Window.orderBy('Discount'))).filter((col('Total_Profit') < 0) & (col('Prev_Total_Profit') > 0))\n",
        "                            .select('Discount').orderBy('Discount').first())\n",
        "if negative_profit_discount:\n",
        "    print(f\"The first discount level after which the total profit becomes negative is: {negative_profit_discount[0]}\")\n",
        "else:\n",
        "    print(\"All discount levels are profitable\")"
      ],
      "metadata": {
        "colab": {
          "base_uri": "https://localhost:8080/"
        },
        "id": "f59JBVqcNTnE",
        "outputId": "2cf80214-5b20-4595-aeeb-8b493389be74"
      },
      "execution_count": 20,
      "outputs": [
        {
          "output_type": "stream",
          "name": "stdout",
          "text": [
            "The first discount level after which the total profit becomes negative is: 0.3\n"
          ]
        }
      ]
    },
    {
      "cell_type": "code",
      "source": [
        "# who are the top 5 most profitable customers\n",
        "from pyspark.sql.functions import sum\n",
        "\n",
        "customer_profit = df.groupBy(\"Customer ID\", \"Customer Name\").agg(sum(\"Profit\").alias(\"Total Profit\"))\n",
        "top_customers = customer_profit.orderBy(\"Total Profit\", ascending=False).limit(5)\n",
        "\n",
        "top_customers.show()\n",
        "\n"
      ],
      "metadata": {
        "colab": {
          "base_uri": "https://localhost:8080/"
        },
        "id": "NoccTrB5wqdp",
        "outputId": "e932112a-9e04-4cbe-e89e-000371e8394a"
      },
      "execution_count": 21,
      "outputs": [
        {
          "output_type": "stream",
          "name": "stdout",
          "text": [
            "+-----------+-----------------+------------------+\n",
            "|Customer ID|    Customer Name|      Total Profit|\n",
            "+-----------+-----------------+------------------+\n",
            "|   SP-20920|     Susan Pistek| 4974.512999999999|\n",
            "|   PJ-18835|    Patrick Jones|3986.0039999999995|\n",
            "|   PO-18865|Patrick O'Donnell|          3778.197|\n",
            "|   EB-13840|    Ellis Ballard|           3459.66|\n",
            "|   MG-18145|  Mike Gockenbach|3144.4439999999995|\n",
            "+-----------+-----------------+------------------+\n",
            "\n"
          ]
        }
      ]
    },
    {
      "cell_type": "code",
      "source": [
        "# get all the rows belonging to those 5 customer names: hint, you may need the collect method - how many rows are they?\n",
        "customer_names = [row[1] for row in top_customers.collect()]\n",
        "# Filter the original dataframe for rows belonging to these customers\n",
        "rows = df.filter(col(\"Customer Name\").isin(customer_names))\n",
        "\n",
        "# Count the number of rows\n",
        "print(\"Number of rows belonging to the top 5 most profitable customers:\", rows.count())\n",
        "\n",
        "rows.show()"
      ],
      "metadata": {
        "colab": {
          "base_uri": "https://localhost:8080/"
        },
        "id": "iwLZa6qszm1J",
        "outputId": "fbc623b3-2853-4e9b-eeb2-a67a1551cab0"
      },
      "execution_count": 22,
      "outputs": [
        {
          "output_type": "stream",
          "name": "stdout",
          "text": [
            "Number of rows belonging to the top 5 most profitable customers: 76\n",
            "+------+---------------+----------+----------+--------------+-----------+-----------------+---------+-------------+--------------------+--------------+-------+---------------+---------------+------------+--------------------+-------+--------+--------+-------+\n",
            "|Row ID|       Order ID|Order Date| Ship Date|     Ship Mode|Customer ID|    Customer Name|  Segment|         City|               State|       Country| Region|     Product ID|       Category|Sub-Category|        Product Name|  Sales|Quantity|Discount| Profit|\n",
            "+------+---------------+----------+----------+--------------+-----------+-----------------+---------+-------------+--------------------+--------------+-------+---------------+---------------+------------+--------------------+-------+--------+--------+-------+\n",
            "|     8|ES-2015-5113958|02/08/2015|07/08/2015|  Second Class|   EB-13840|    Ellis Ballard|Corporate|West Bromwich|             England|United Kingdom|  North|TEC-CO-10004325|     Technology|     Copiers|Canon Personal Co...| 428.22|       3|       0| 192.69|\n",
            "|     9|ES-2015-5113958|02/08/2015|07/08/2015|  Second Class|   EB-13840|    Ellis Ballard|Corporate|West Bromwich|             England|United Kingdom|  North|OFF-AP-10004512|Office Supplies|  Appliances|   Hoover Stove, Red|3979.29|       7|       0|1989.54|\n",
            "|    10|ES-2015-5113958|02/08/2015|07/08/2015|  Second Class|   EB-13840|    Ellis Ballard|Corporate|West Bromwich|             England|United Kingdom|  North|OFF-FA-10002393|Office Supplies|   Fasteners|Accos Push Pins, ...|  43.56|       3|       0|   12.6|\n",
            "|    27|ES-2017-2557751|28/02/2017|04/03/2017|Standard Class|   SP-20920|     Susan Pistek| Consumer|    Heilbronn|   Baden-Württemberg|       Germany|Central|TEC-MA-10000946|     Technology|    Machines|Panasonic Calcula...| 332.01|       7|       0| 112.77|\n",
            "|    28|ES-2017-2557751|28/02/2017|04/03/2017|Standard Class|   SP-20920|     Susan Pistek| Consumer|    Heilbronn|   Baden-Württemberg|       Germany|Central|OFF-ST-10004409|Office Supplies|     Storage|Rogers Box, Indus...|110.025|       5|     0.1|-12.225|\n",
            "|    29|ES-2017-2557751|28/02/2017|04/03/2017|Standard Class|   SP-20920|     Susan Pistek| Consumer|    Heilbronn|   Baden-Württemberg|       Germany|Central|OFF-FA-10000146|Office Supplies|   Fasteners|Stockwell Rubber ...|  41.94|       3|       0|   7.92|\n",
            "|   182|ES-2016-1788644|27/05/2016|01/06/2016|Standard Class|   EB-13840|    Ellis Ballard|Corporate| Grevenbroich|North Rhine-Westp...|       Germany|Central|OFF-AR-10003377|Office Supplies|         Art|Boston Pencil Sha...| 181.26|       6|       0|  28.98|\n",
            "|   183|ES-2016-1788644|27/05/2016|01/06/2016|Standard Class|   EB-13840|    Ellis Ballard|Corporate| Grevenbroich|North Rhine-Westp...|       Germany|Central|TEC-PH-10004263|     Technology|      Phones|Cisco Signal Boos...|1062.81|       7|       0| 265.65|\n",
            "|   184|ES-2016-1788644|27/05/2016|01/06/2016|Standard Class|   EB-13840|    Ellis Ballard|Corporate| Grevenbroich|North Rhine-Westp...|       Germany|Central|OFF-ST-10004577|Office Supplies|     Storage|Tenex Shelving, W...| 96.714|       2|     0.1|  2.094|\n",
            "|   232|ES-2017-1956763|29/12/2017|04/01/2018|Standard Class|   EB-13840|    Ellis Ballard|Corporate|       London|             England|United Kingdom|  North|OFF-EN-10003360|Office Supplies|   Envelopes|Kraft Mailers, wi...|148.284|       4|     0.1| 23.004|\n",
            "|   415|ES-2017-2591069|29/10/2017|02/11/2017|Standard Class|   PO-18865|Patrick O'Donnell| Consumer|        Nancy|Alsace-Champagne-...|        France|Central|OFF-AR-10004303|Office Supplies|         Art|Stanley Markers, ...|   88.8|       4|       0|   7.92|\n",
            "|   416|ES-2017-2591069|29/10/2017|02/11/2017|Standard Class|   PO-18865|Patrick O'Donnell| Consumer|        Nancy|Alsace-Champagne-...|        France|Central|TEC-CO-10004005|     Technology|     Copiers|Sharp Copy Machin...|1015.92|       5|    0.15| -24.03|\n",
            "|   689|ES-2016-4398455|09/09/2016|14/09/2016|Standard Class|   PO-18865|Patrick O'Donnell| Consumer|      Catania|              Sicily|         Italy|  South|OFF-AR-10004825|Office Supplies|         Art|BIC Canvas, Fluor...| 109.92|       2|       0|  38.46|\n",
            "|   690|ES-2016-4398455|09/09/2016|14/09/2016|Standard Class|   PO-18865|Patrick O'Donnell| Consumer|      Catania|              Sicily|         Italy|  South|OFF-AP-10000864|Office Supplies|  Appliances|Hamilton Beach Re...|1998.24|       4|       0| 359.64|\n",
            "|   727|ES-2016-4933394|28/11/2016|03/12/2016|Standard Class|   PO-18865|Patrick O'Donnell| Consumer|         Osny|       Ile-de-France|        France|Central|OFF-LA-10003290|Office Supplies|      Labels|Hon Round Labels,...|   4.56|       1|       0|   1.62|\n",
            "|  1090|ES-2015-1059749|14/02/2015|17/02/2015|   First Class|   SP-20920|     Susan Pistek| Consumer|      Quimper|            Brittany|        France|Central|OFF-BI-10001544|Office Supplies|     Binders|Wilson Jones Hole...|   7.98|       2|       0|   0.84|\n",
            "|  1091|ES-2015-1059749|14/02/2015|17/02/2015|   First Class|   SP-20920|     Susan Pistek| Consumer|      Quimper|            Brittany|        France|Central|FUR-CH-10004969|      Furniture|      Chairs|Office Star Bag C...| 99.792|       2|     0.1| 11.052|\n",
            "|  1092|ES-2015-1059749|14/02/2015|17/02/2015|   First Class|   SP-20920|     Susan Pistek| Consumer|      Quimper|            Brittany|        France|Central|OFF-AR-10003247|Office Supplies|         Art|Boston Highlighte...|   88.2|       4|       0|  15.84|\n",
            "|  1093|ES-2015-1059749|14/02/2015|17/02/2015|   First Class|   SP-20920|     Susan Pistek| Consumer|      Quimper|            Brittany|        France|Central|OFF-BI-10004801|Office Supplies|     Binders|Acco Binding Mach...| 105.18|       2|       0|   25.2|\n",
            "|  1094|ES-2015-1059749|14/02/2015|17/02/2015|   First Class|   SP-20920|     Susan Pistek| Consumer|      Quimper|            Brittany|        France|Central|OFF-ST-10003414|Office Supplies|     Storage|Tenex Shelving, I...| 248.13|       5|     0.1|  24.78|\n",
            "+------+---------------+----------+----------+--------------+-----------+-----------------+---------+-------------+--------------------+--------------+-------+---------------+---------------+------------+--------------------+-------+--------+--------+-------+\n",
            "only showing top 20 rows\n",
            "\n"
          ]
        }
      ]
    },
    {
      "cell_type": "code",
      "source": [
        "# create a new column which is the value of the sale were there not discount applied. Hint: orginal = sales/(1-d)\n",
        "\n",
        "df = df.withColumn(\"Original_Sales\", col(\"Sales\") / (1 - col(\"Discount\")))\n"
      ],
      "metadata": {
        "id": "AitOjuGV2swE"
      },
      "execution_count": 23,
      "outputs": []
    },
    {
      "cell_type": "code",
      "source": [
        "df.select('Original_Sales', 'Sales', 'Discount').show()"
      ],
      "metadata": {
        "colab": {
          "base_uri": "https://localhost:8080/"
        },
        "id": "QQ9XCN6I9pou",
        "outputId": "2dc83c0e-fae3-41c3-d8a4-9565edbb6762"
      },
      "execution_count": 24,
      "outputs": [
        {
          "output_type": "stream",
          "name": "stdout",
          "text": [
            "+------------------+--------+--------+\n",
            "|    Original_Sales|   Sales|Discount|\n",
            "+------------------+--------+--------+\n",
            "|              79.2|    79.2|       0|\n",
            "|            388.92|  388.92|       0|\n",
            "|             35.19|   35.19|       0|\n",
            "|             50.94|   50.94|       0|\n",
            "|            307.44|  307.44|       0|\n",
            "|             122.4|   122.4|       0|\n",
            "|            413.82|  413.82|       0|\n",
            "|            428.22|  428.22|       0|\n",
            "|           3979.29| 3979.29|       0|\n",
            "|             43.56|   43.56|       0|\n",
            "|             25.26|   25.26|       0|\n",
            "|2715.4500000000003|2443.905|     0.1|\n",
            "|             12.21|   12.21|       0|\n",
            "|2549.7599999999998|2167.296|    0.15|\n",
            "|            153.45| 138.105|     0.1|\n",
            "|142.64999999999998| 128.385|     0.1|\n",
            "|            690.12|  690.12|       0|\n",
            "|              8.16|    8.16|       0|\n",
            "|            347.88|  347.88|       0|\n",
            "| 639.4499999999999| 575.505|     0.1|\n",
            "+------------------+--------+--------+\n",
            "only showing top 20 rows\n",
            "\n"
          ]
        }
      ]
    },
    {
      "cell_type": "code",
      "source": [
        "# calculate the difference between sales and discount value\n",
        "df = df.withColumn(\"Difference\", col(\"Sales\") - col(\"Original_Sales\"))\n",
        "\n",
        "# Show the resulting DataFrame\n",
        "df.select(\"Sales\", \"Discount\", \"Original_Sales\", \"Difference\").show()\n"
      ],
      "metadata": {
        "colab": {
          "base_uri": "https://localhost:8080/"
        },
        "id": "pio7nL-593QV",
        "outputId": "dc8d5d02-bae4-4a9b-8c4d-4a758ec77037"
      },
      "execution_count": 25,
      "outputs": [
        {
          "output_type": "stream",
          "name": "stdout",
          "text": [
            "+--------+--------+------------------+-------------------+\n",
            "|   Sales|Discount|    Original_Sales|         Difference|\n",
            "+--------+--------+------------------+-------------------+\n",
            "|    79.2|       0|              79.2|                0.0|\n",
            "|  388.92|       0|            388.92|                0.0|\n",
            "|   35.19|       0|             35.19|                0.0|\n",
            "|   50.94|       0|             50.94|                0.0|\n",
            "|  307.44|       0|            307.44|                0.0|\n",
            "|   122.4|       0|             122.4|                0.0|\n",
            "|  413.82|       0|            413.82|                0.0|\n",
            "|  428.22|       0|            428.22|                0.0|\n",
            "| 3979.29|       0|           3979.29|                0.0|\n",
            "|   43.56|       0|             43.56|                0.0|\n",
            "|   25.26|       0|             25.26|                0.0|\n",
            "|2443.905|     0.1|2715.4500000000003| -271.5450000000001|\n",
            "|   12.21|       0|             12.21|                0.0|\n",
            "|2167.296|    0.15|2549.7599999999998|-382.46399999999994|\n",
            "| 138.105|     0.1|            153.45|-15.344999999999999|\n",
            "| 128.385|     0.1|142.64999999999998|-14.264999999999986|\n",
            "|  690.12|       0|            690.12|                0.0|\n",
            "|    8.16|       0|              8.16|                0.0|\n",
            "|  347.88|       0|            347.88|                0.0|\n",
            "| 575.505|     0.1| 639.4499999999999|-63.944999999999936|\n",
            "+--------+--------+------------------+-------------------+\n",
            "only showing top 20 rows\n",
            "\n"
          ]
        }
      ]
    },
    {
      "cell_type": "code",
      "source": [
        "# how much money did we not gain due to the discounts - per discount bracket?\n",
        "\n",
        "df = df.withColumn(\"Missed_Sale\", col(\"Original_Sales\") - col(\"Sales\"))\n",
        "\n",
        "# Group by discount bracket and sum the missed sale\n",
        "missed_sales = df.groupBy(\"Discount\").agg(sum(\"Missed_Sale\").alias(\"Missed_Sales\"))\n",
        "missed_sales.show()"
      ],
      "metadata": {
        "colab": {
          "base_uri": "https://localhost:8080/"
        },
        "id": "yf46FMCwBgKs",
        "outputId": "6350bf48-7507-4db2-f501-93c58baf1417"
      },
      "execution_count": 26,
      "outputs": [
        {
          "output_type": "stream",
          "name": "stdout",
          "text": [
            "+--------+------------------+\n",
            "|Discount|      Missed_Sales|\n",
            "+--------+------------------+\n",
            "|     0.3|2630.2410000000004|\n",
            "|     0.7|          8534.085|\n",
            "|       0|               0.0|\n",
            "|     0.2|10653.119999999997|\n",
            "|    0.15| 45233.17650000002|\n",
            "|    0.35|29163.099000000002|\n",
            "|     0.8| 635.6640000000002|\n",
            "|    0.45|2083.4414999999995|\n",
            "|     0.5|183734.26500000045|\n",
            "|    0.65|12219.655499999999|\n",
            "|     0.6| 39644.04599999997|\n",
            "|     0.1| 84712.44899999995|\n",
            "|    0.85|          4515.438|\n",
            "|     0.4| 46724.68800000002|\n",
            "+--------+------------------+\n",
            "\n"
          ]
        }
      ]
    },
    {
      "cell_type": "code",
      "source": [
        "# find the discount bracket which made us not gain the most (dynamically)\n",
        "from pyspark.sql.functions import desc\n",
        "worst_discount = missed_sales.orderBy(desc(\"Missed_Sales\"))\n",
        "worst_discount.show(5)"
      ],
      "metadata": {
        "colab": {
          "base_uri": "https://localhost:8080/"
        },
        "id": "oxsatdZDCwnS",
        "outputId": "c7bf9190-c81c-4e56-9b4d-cc07f6feb2a5"
      },
      "execution_count": 27,
      "outputs": [
        {
          "output_type": "stream",
          "name": "stdout",
          "text": [
            "+--------+------------------+\n",
            "|Discount|      Missed_Sales|\n",
            "+--------+------------------+\n",
            "|     0.5|183734.26500000045|\n",
            "|     0.1| 84712.44899999995|\n",
            "|     0.4| 46724.68800000002|\n",
            "|    0.15| 45233.17650000002|\n",
            "|     0.6| 39644.04599999997|\n",
            "+--------+------------------+\n",
            "only showing top 5 rows\n",
            "\n"
          ]
        }
      ]
    },
    {
      "cell_type": "code",
      "source": [
        "# what would have been the total profit if we removed all orders from that discount group? \n",
        "total_profit = df.agg(sum(\"Profit\")).collect()[0][0]\n",
        "print(\"Total Profit without applying any discount:\", total_profit)\n"
      ],
      "metadata": {
        "id": "LLTHZXOEikwZ",
        "colab": {
          "base_uri": "https://localhost:8080/"
        },
        "outputId": "47ef11b7-1c2e-47eb-979f-bb4af68a9907"
      },
      "execution_count": 28,
      "outputs": [
        {
          "output_type": "stream",
          "name": "stdout",
          "text": [
            "Total Profit without applying any discount: 372829.7415000005\n"
          ]
        }
      ]
    },
    {
      "cell_type": "code",
      "source": [
        "#how much more (or less) profit is that?\n",
        "# i didnt understand "
      ],
      "metadata": {
        "id": "3iGQv13xk7-8"
      },
      "execution_count": 29,
      "outputs": []
    },
    {
      "cell_type": "code",
      "source": [
        "# create a temporary table for our superstore table in sql\n",
        "df.createOrReplaceTempView(\"superstore_temp\")"
      ],
      "metadata": {
        "id": "-ntz8Kw7k9KH"
      },
      "execution_count": 31,
      "outputs": []
    },
    {
      "cell_type": "code",
      "source": [
        "spark.sql(\"SELECT * FROM superstore_temp\").show()\n"
      ],
      "metadata": {
        "id": "PG_RvoOgk9S0",
        "colab": {
          "base_uri": "https://localhost:8080/"
        },
        "outputId": "d4b9391d-7754-4b0d-9ee2-dfce335a7266"
      },
      "execution_count": 32,
      "outputs": [
        {
          "output_type": "stream",
          "name": "stdout",
          "text": [
            "+------+---------------+----------+----------+--------------+-----------+----------------+-----------+-------------+--------------------+--------------+-------+---------------+---------------+------------+--------------------+--------+--------+--------+-------+------------------+-------------------+------------------+\n",
            "|Row ID|       Order ID|Order Date| Ship Date|     Ship Mode|Customer ID|   Customer Name|    Segment|         City|               State|       Country| Region|     Product ID|       Category|Sub-Category|        Product Name|   Sales|Quantity|Discount| Profit|    Original_Sales|         Difference|       Missed_Sale|\n",
            "+------+---------------+----------+----------+--------------+-----------+----------------+-----------+-------------+--------------------+--------------+-------+---------------+---------------+------------+--------------------+--------+--------+--------+-------+------------------+-------------------+------------------+\n",
            "|     1|ES-2017-1311038|07/02/2017|11/02/2017|Standard Class|   AS-10045|  Aaron Smayling|  Corporate|        Leeds|             England|United Kingdom|  North|OFF-ST-10000988|Office Supplies|     Storage|Fellowes Folders,...|    79.2|       3|       0|   39.6|              79.2|                0.0|               0.0|\n",
            "|     2|ES-2017-1311038|07/02/2017|11/02/2017|Standard Class|   AS-10045|  Aaron Smayling|  Corporate|        Leeds|             England|United Kingdom|  North|TEC-AC-10004144|     Technology| Accessories|SanDisk Numeric K...|  388.92|       7|       0|      0|            388.92|                0.0|               0.0|\n",
            "|     3|ES-2017-1311038|07/02/2017|11/02/2017|Standard Class|   AS-10045|  Aaron Smayling|  Corporate|        Leeds|             England|United Kingdom|  North|OFF-LA-10001915|Office Supplies|      Labels|Avery Legal Exhib...|   35.19|       3|       0|  16.11|             35.19|                0.0|               0.0|\n",
            "|     4|ES-2017-1311038|07/02/2017|11/02/2017|Standard Class|   AS-10045|  Aaron Smayling|  Corporate|        Leeds|             England|United Kingdom|  North|OFF-ST-10004550|Office Supplies|     Storage|Fellowes Folders,...|   50.94|       2|       0|   13.2|             50.94|                0.0|               0.0|\n",
            "|     5|ES-2017-1311038|07/02/2017|11/02/2017|Standard Class|   AS-10045|  Aaron Smayling|  Corporate|        Leeds|             England|United Kingdom|  North|TEC-AC-10004068|     Technology| Accessories|Memorex Memory Ca...|  307.44|       3|       0|  73.71|            307.44|                0.0|               0.0|\n",
            "|     6|ES-2017-1311038|07/02/2017|11/02/2017|Standard Class|   AS-10045|  Aaron Smayling|  Corporate|        Leeds|             England|United Kingdom|  North|OFF-ST-10002271|Office Supplies|     Storage|Rogers Shelving, ...|   122.4|       2|       0|  37.92|             122.4|                0.0|               0.0|\n",
            "|     7|ES-2017-1311038|07/02/2017|11/02/2017|Standard Class|   AS-10045|  Aaron Smayling|  Corporate|        Leeds|             England|United Kingdom|  North|TEC-PH-10003963|     Technology|      Phones|Apple Signal Boos...|  413.82|       3|       0|  20.61|            413.82|                0.0|               0.0|\n",
            "|     8|ES-2015-5113958|02/08/2015|07/08/2015|  Second Class|   EB-13840|   Ellis Ballard|  Corporate|West Bromwich|             England|United Kingdom|  North|TEC-CO-10004325|     Technology|     Copiers|Canon Personal Co...|  428.22|       3|       0| 192.69|            428.22|                0.0|               0.0|\n",
            "|     9|ES-2015-5113958|02/08/2015|07/08/2015|  Second Class|   EB-13840|   Ellis Ballard|  Corporate|West Bromwich|             England|United Kingdom|  North|OFF-AP-10004512|Office Supplies|  Appliances|   Hoover Stove, Red| 3979.29|       7|       0|1989.54|           3979.29|                0.0|               0.0|\n",
            "|    10|ES-2015-5113958|02/08/2015|07/08/2015|  Second Class|   EB-13840|   Ellis Ballard|  Corporate|West Bromwich|             England|United Kingdom|  North|OFF-FA-10002393|Office Supplies|   Fasteners|Accos Push Pins, ...|   43.56|       3|       0|   12.6|             43.56|                0.0|               0.0|\n",
            "|    11|ES-2015-2510515|20/06/2015|20/06/2015|      Same Day|   LH-17155|Logan Haushalter|   Consumer|   Le Bouscat|Aquitaine-Limousi...|        France|Central|OFF-LA-10002805|Office Supplies|      Labels|Hon Color Coded L...|   25.26|       2|       0|   0.48|             25.26|                0.0|               0.0|\n",
            "|    12|ES-2015-2510515|20/06/2015|20/06/2015|      Same Day|   LH-17155|Logan Haushalter|   Consumer|   Le Bouscat|Aquitaine-Limousi...|        France|Central|OFF-AP-10002330|Office Supplies|  Appliances|Hamilton Beach St...|2443.905|       5|     0.1|760.305|2715.4500000000003| -271.5450000000001| 271.5450000000001|\n",
            "|    13|ES-2015-2510515|20/06/2015|20/06/2015|      Same Day|   LH-17155|Logan Haushalter|   Consumer|   Le Bouscat|Aquitaine-Limousi...|        France|Central|OFF-AR-10000505|Office Supplies|         Art|Binney & Smith Pe...|   12.21|       1|       0|      0|             12.21|                0.0|               0.0|\n",
            "|    14|ES-2015-2510515|20/06/2015|20/06/2015|      Same Day|   LH-17155|Logan Haushalter|   Consumer|   Le Bouscat|Aquitaine-Limousi...|        France|Central|TEC-PH-10002898|     Technology|      Phones|Samsung Smart Pho...|2167.296|       4|    0.15|790.416|2549.7599999999998|-382.46399999999994|382.46399999999994|\n",
            "|    15|ES-2015-2510515|20/06/2015|20/06/2015|      Same Day|   LH-17155|Logan Haushalter|   Consumer|   Le Bouscat|Aquitaine-Limousi...|        France|Central|OFF-ST-10001413|Office Supplies|     Storage|Rogers Folders, Blue| 138.105|       5|     0.1|-12.345|            153.45|-15.344999999999999|15.344999999999999|\n",
            "|    16|ES-2016-4380115|16/02/2016|20/02/2016|Standard Class|   KC-16540| Kelly Collister|   Consumer|   Strasbourg|Alsace-Champagne-...|        France|Central|OFF-ST-10003931|Office Supplies|     Storage|Smead Trays, Wire...| 128.385|       3|     0.1|  4.275|142.64999999999998|-14.264999999999986|14.264999999999986|\n",
            "|    17|ES-2016-4380115|16/02/2016|20/02/2016|Standard Class|   KC-16540| Kelly Collister|   Consumer|   Strasbourg|Alsace-Champagne-...|        France|Central|TEC-AC-10004269|     Technology| Accessories|Belkin Memory Car...|  690.12|       6|       0|      0|            690.12|                0.0|               0.0|\n",
            "|    18|ES-2016-4380115|16/02/2016|20/02/2016|Standard Class|   KC-16540| Kelly Collister|   Consumer|   Strasbourg|Alsace-Champagne-...|        France|Central|OFF-LA-10001676|Office Supplies|      Labels|Hon Removable Lab...|    8.16|       1|       0|   1.14|              8.16|                0.0|               0.0|\n",
            "|    19|ES-2017-2573330|03/11/2017|08/11/2017|Standard Class|   BF-11170|      Ben Ferrer|Home Office|         Unna|North Rhine-Westp...|       Germany|Central|TEC-MA-10000811|     Technology|    Machines|Okidata Phone, Du...|  347.88|       4|       0|  76.44|            347.88|                0.0|               0.0|\n",
            "|    20|ES-2017-2573330|03/11/2017|08/11/2017|Standard Class|   BF-11170|      Ben Ferrer|Home Office|         Unna|North Rhine-Westp...|       Germany|Central|OFF-ST-10000648|Office Supplies|     Storage|Eldon File Cart, ...| 575.505|       5|     0.1| 12.705| 639.4499999999999|-63.944999999999936|63.944999999999936|\n",
            "+------+---------------+----------+----------+--------------+-----------+----------------+-----------+-------------+--------------------+--------------+-------+---------------+---------------+------------+--------------------+--------+--------+--------+-------+------------------+-------------------+------------------+\n",
            "only showing top 20 rows\n",
            "\n"
          ]
        }
      ]
    },
    {
      "cell_type": "code",
      "source": [
        "# use an SQL query to count the number of rows\n",
        "count_rows = spark.sql(\"SELECT COUNT(*) FROM superstore_temp\")\n",
        "count_rows.show()"
      ],
      "metadata": {
        "colab": {
          "base_uri": "https://localhost:8080/"
        },
        "id": "EOu2Gditbiwj",
        "outputId": "191c062c-c7a2-4a17-a0d2-9c9aa989261a"
      },
      "execution_count": 33,
      "outputs": [
        {
          "output_type": "stream",
          "name": "stdout",
          "text": [
            "+--------+\n",
            "|count(1)|\n",
            "+--------+\n",
            "|   10000|\n",
            "+--------+\n",
            "\n"
          ]
        }
      ]
    },
    {
      "cell_type": "code",
      "source": [
        "# Use an SQL query to calculate the profit ratio for each country: hint, ratio is sum(profit)/sum(sales)\n",
        "\n",
        "profit_ratio_by_country = spark.sql(\"\"\"\n",
        "    SELECT `Country`,\n",
        "           SUM(`Profit`) / SUM(`Sales`) AS `Profit_Ratio`\n",
        "    FROM superstore_temp\n",
        "    GROUP BY `Country`\n",
        "    ORDER BY `Profit_Ratio` Desc\n",
        "\"\"\")\n",
        "\n",
        "# show the results\n",
        "profit_ratio_by_country.show()\n"
      ],
      "metadata": {
        "colab": {
          "base_uri": "https://localhost:8080/"
        },
        "id": "faFng-NIcUv7",
        "outputId": "0c05c5d1-3b9d-4d11-d907-df056e6e70db"
      },
      "execution_count": 34,
      "outputs": [
        {
          "output_type": "stream",
          "name": "stdout",
          "text": [
            "+--------------+--------------------+\n",
            "|       Country|        Profit_Ratio|\n",
            "+--------------+--------------------+\n",
            "|   Switzerland|  0.2909201193350232|\n",
            "|       Austria|  0.2641908775042505|\n",
            "|        Norway|  0.2517747548521659|\n",
            "|       Belgium| 0.23508766583987942|\n",
            "|United Kingdom| 0.21170103540397134|\n",
            "|         Spain| 0.18941580658358978|\n",
            "|       Finland| 0.18864296633316185|\n",
            "|       Germany| 0.17066792076621765|\n",
            "|        France| 0.12693568221933804|\n",
            "|         Italy| 0.06844355185424991|\n",
            "|       Ireland|-0.44426677493909256|\n",
            "|       Denmark| -0.4957190005664471|\n",
            "|   Netherlands| -0.5298342790541865|\n",
            "|        Sweden| -0.5745674280714466|\n",
            "|      Portugal| -0.5761662270806188|\n",
            "+--------------+--------------------+\n",
            "\n"
          ]
        }
      ]
    },
    {
      "cell_type": "code",
      "source": [
        "# is the country with the largest profit ratio, the country with the largest profit?\n",
        "\n",
        "# calculate profit by country\n",
        "profit_by_country = df.groupBy(\"Country\").agg(sum(\"Profit\").alias(\"Total_profit_per_country\"))"
      ],
      "metadata": {
        "id": "wr9YQhkMc6qs"
      },
      "execution_count": 35,
      "outputs": []
    },
    {
      "cell_type": "code",
      "source": [
        "profit_by_country.orderBy(\"Total_profit_per_country\", ascending=False).show()\n"
      ],
      "metadata": {
        "colab": {
          "base_uri": "https://localhost:8080/"
        },
        "id": "hN0xfwZvdw3l",
        "outputId": "3cd4046d-9ee8-4cb7-e84b-c664a200bc1d"
      },
      "execution_count": 36,
      "outputs": [
        {
          "output_type": "stream",
          "name": "stdout",
          "text": [
            "+--------------+------------------------+\n",
            "|       Country|Total_profit_per_country|\n",
            "+--------------+------------------------+\n",
            "|United Kingdom|      111900.15000000001|\n",
            "|        France|      109029.00299999975|\n",
            "|       Germany|      107322.82049999991|\n",
            "|         Spain|       54390.11999999999|\n",
            "|       Austria|                21442.26|\n",
            "|         Italy|      19828.757999999965|\n",
            "|       Belgium|                11572.59|\n",
            "|   Switzerland|       7237.470000000001|\n",
            "|        Norway|                 5167.77|\n",
            "|       Finland|                 3905.73|\n",
            "|       Denmark|     -4282.0470000000005|\n",
            "|       Ireland|      -7392.381000000003|\n",
            "|      Portugal|      -8703.059999999998|\n",
            "|        Sweden|     -17519.366999999987|\n",
            "|   Netherlands|      -41070.07499999996|\n",
            "+--------------+------------------------+\n",
            "\n"
          ]
        }
      ]
    },
    {
      "cell_type": "code",
      "source": [],
      "metadata": {
        "id": "CIRjYfYCeVxH"
      },
      "execution_count": null,
      "outputs": []
    }
  ]
}